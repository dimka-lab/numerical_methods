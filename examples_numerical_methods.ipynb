{
 "cells": [
  {
   "cell_type": "markdown",
   "id": "741d7539",
   "metadata": {},
   "source": [
    "# Integrals"
   ]
  },
  {
   "cell_type": "markdown",
   "id": "1dd894d8",
   "metadata": {},
   "source": [
    "Let's try calculate integral $\\int_{-1}^{4} \\! (2x^2-3) \\, \\mathrm{d}x = \\frac {85} 3$\n",
    "\n",
    "\n",
    "At first, we will find analytical (exact) solution:"
   ]
  },
  {
   "cell_type": "code",
   "execution_count": 18,
   "id": "c34d39a8",
   "metadata": {
    "ExecuteTime": {
     "end_time": "2023-07-03T20:32:16.597856Z",
     "start_time": "2023-07-03T20:32:16.561168Z"
    }
   },
   "outputs": [
    {
     "data": {
      "text/latex": [
       "$\\displaystyle \\frac{85}{3}$"
      ],
      "text/plain": [
       "85/3"
      ]
     },
     "metadata": {},
     "output_type": "display_data"
    }
   ],
   "source": [
    "import numpy as np\n",
    "import matplotlib.pyplot as plt\n",
    "from sympy import symbols, integrate\n",
    "x = symbols('x')\n",
    "f = (2*x**2 - 3)\n",
    "display(integrate(f, (x, -1, 4)))\n",
    "del(x)"
   ]
  },
  {
   "cell_type": "code",
   "execution_count": 19,
   "id": "d3b0b7c6",
   "metadata": {
    "ExecuteTime": {
     "end_time": "2023-07-03T20:41:58.224423Z",
     "start_time": "2023-07-03T20:41:58.211192Z"
    }
   },
   "outputs": [
    {
     "name": "stdout",
     "output_type": "stream",
     "text": [
      "28.333333333333332\n"
     ]
    }
   ],
   "source": [
    "exact_solution = 85/3\n",
    "print(exact_solution)"
   ]
  },
  {
   "cell_type": "markdown",
   "id": "bf9bc5da",
   "metadata": {},
   "source": [
    "Now we will calculate it numerically by rectangle method:\n",
    "\n",
    "$I = \\int_{a}^b f(x) \\mathrm dx \\approx \\sum_{i=0}^{n-1}f(x_i)(x_{i+1}-x_i)$"
   ]
  },
  {
   "cell_type": "code",
   "execution_count": 23,
   "id": "58f6d75d",
   "metadata": {
    "ExecuteTime": {
     "end_time": "2023-07-03T20:48:04.849499Z",
     "start_time": "2023-07-03T20:48:04.825058Z"
    }
   },
   "outputs": [
    {
     "name": "stdout",
     "output_type": "stream",
     "text": [
      "Approximate integral: 28.125\n",
      "Difference between exact and approximate solutions equals 0.20833333333333215\n"
     ]
    }
   ],
   "source": [
    "def rectangle_method(a, b, n):\n",
    "    dx = (b - a) / n\n",
    "    x = a + dx / 2\n",
    "    integral = 0\n",
    "    \n",
    "    ints, xs = [], []\n",
    "    for i in range(n):\n",
    "        f_x = f(x)  # replace function with your own function\n",
    "        integral += f_x * dx\n",
    "        x += dx\n",
    "        ints.append(integral)\n",
    "        xs.append(x)\n",
    "    return [integral, ints, xs]\n",
    "\n",
    "# Function: f(x) = 2x^2 - 3\n",
    "def f(x):\n",
    "    return 2*x**2 - 3\n",
    "\n",
    "a = -1  # lower limit\n",
    "b = 4  # upper limit\n",
    "n = 10  # number of subintervals\n",
    "integral = rectangle_method(a, b, n)\n",
    "print(\"Approximate integral:\", integral[0])\n",
    "print('Difference between exact and approximate solutions equals', abs(exact_solution - integral[0]))"
   ]
  },
  {
   "cell_type": "markdown",
   "id": "5a4e034e",
   "metadata": {},
   "source": [
    "Let's increase the number of subintervals - rectangles"
   ]
  },
  {
   "cell_type": "code",
   "execution_count": 31,
   "id": "ea597ac1",
   "metadata": {
    "ExecuteTime": {
     "end_time": "2023-07-03T20:50:30.049279Z",
     "start_time": "2023-07-03T20:50:30.029915Z"
    }
   },
   "outputs": [
    {
     "name": "stdout",
     "output_type": "stream",
     "text": [
      "Exact solution =  28.333333333333332\n",
      "Approximate integral: 28.331249999999958\n",
      "Difference between exact and approximate solutions equals 0.002083333333374\n"
     ]
    }
   ],
   "source": [
    "n = 100\n",
    "integral = rectangle_method(a, b, n)\n",
    "print('Exact solution = ', exact_solution)\n",
    "print(\"Approximate integral:\", integral[0])\n",
    "print(f'Difference between exact and approximate solutions equals {abs(exact_solution - integral[0]):.15f}')"
   ]
  },
  {
   "cell_type": "markdown",
   "id": "3b77f188",
   "metadata": {},
   "source": [
    "Now difference between exact and approximate solutions is not significant after increasing number of rectangles"
   ]
  },
  {
   "cell_type": "code",
   "execution_count": 32,
   "id": "3f47b8a5",
   "metadata": {
    "ExecuteTime": {
     "end_time": "2023-07-03T20:51:49.229529Z",
     "start_time": "2023-07-03T20:51:49.222239Z"
    }
   },
   "outputs": [],
   "source": [
    "# to be continued..."
   ]
  }
 ],
 "metadata": {
  "hide_input": false,
  "kernelspec": {
   "display_name": "Python 3 (ipykernel)",
   "language": "python",
   "name": "python3"
  },
  "language_info": {
   "codemirror_mode": {
    "name": "ipython",
    "version": 3
   },
   "file_extension": ".py",
   "mimetype": "text/x-python",
   "name": "python",
   "nbconvert_exporter": "python",
   "pygments_lexer": "ipython3",
   "version": "3.9.7"
  },
  "latex_envs": {
   "LaTeX_envs_menu_present": true,
   "autoclose": false,
   "autocomplete": true,
   "bibliofile": "biblio.bib",
   "cite_by": "apalike",
   "current_citInitial": 1,
   "eqLabelWithNumbers": true,
   "eqNumInitial": 1,
   "hotkeys": {
    "equation": "Ctrl-E",
    "itemize": "Ctrl-I"
   },
   "labels_anchors": false,
   "latex_user_defs": false,
   "report_style_numbering": false,
   "user_envs_cfg": false
  }
 },
 "nbformat": 4,
 "nbformat_minor": 5
}
