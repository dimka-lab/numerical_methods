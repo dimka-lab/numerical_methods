{
 "cells": [
  {
   "cell_type": "markdown",
   "id": "741d7539",
   "metadata": {},
   "source": [
    "# Integrals"
   ]
  },
  {
   "cell_type": "markdown",
   "id": "1dd894d8",
   "metadata": {},
   "source": [
    "Let's try calculate integral $\\int_{-1}^{4} \\! (2x^2-3) \\, \\mathrm{d}x = \\frac {85} 3$\n",
    "\n",
    "\n",
    "At first, we will find analytical (exact) solution:"
   ]
  },
  {
   "cell_type": "code",
   "execution_count": 29,
   "id": "c34d39a8",
   "metadata": {
    "ExecuteTime": {
     "end_time": "2023-07-08T00:11:08.269092Z",
     "start_time": "2023-07-08T00:11:05.531420Z"
    }
   },
   "outputs": [
    {
     "data": {
      "text/latex": [
       "$\\displaystyle \\frac{85}{3}$"
      ],
      "text/plain": [
       "85/3"
      ]
     },
     "metadata": {},
     "output_type": "display_data"
    }
   ],
   "source": [
    "import numpy as np\n",
    "import matplotlib.pyplot as plt\n",
    "from sympy import symbols, integrate\n",
    "x = symbols('x')\n",
    "f = (2*x**2 - 3)\n",
    "display(integrate(f, (x, -1, 4)))\n",
    "del(x)"
   ]
  },
  {
   "cell_type": "code",
   "execution_count": 34,
   "id": "d3b0b7c6",
   "metadata": {
    "ExecuteTime": {
     "end_time": "2023-07-08T00:11:28.928332Z",
     "start_time": "2023-07-08T00:11:28.912347Z"
    }
   },
   "outputs": [
    {
     "name": "stdout",
     "output_type": "stream",
     "text": [
      "28.333333333333332\n"
     ]
    }
   ],
   "source": [
    "exact_solution = 85/3\n",
    "print(exact_solution)"
   ]
  },
  {
   "cell_type": "markdown",
   "id": "bf9bc5da",
   "metadata": {},
   "source": [
    "#### Rectangle method\n",
    "Now we will calculate it numerically by rectangle method:\n",
    "\n",
    "$I = \\int_{a}^b f(x) \\mathrm dx \\approx \\sum_{i=0}^{n-1}f(x_i)(x_{i+1}-x_i)$"
   ]
  },
  {
   "cell_type": "code",
   "execution_count": 35,
   "id": "58f6d75d",
   "metadata": {
    "ExecuteTime": {
     "end_time": "2023-07-08T00:11:29.776121Z",
     "start_time": "2023-07-08T00:11:29.755808Z"
    }
   },
   "outputs": [
    {
     "name": "stdout",
     "output_type": "stream",
     "text": [
      "Exact solution =  28.333333333333332\n",
      "Approximate integral: 28.125\n",
      "Difference between exact and approximate solutions equals 0.20833333333333215\n"
     ]
    }
   ],
   "source": [
    "from numerical_methods import rectangle_method\n",
    "def func(x):\n",
    "    return 2*x**2 - 3\n",
    "\n",
    "a = -1  # lower limit\n",
    "b = 4  # upper limit\n",
    "n = 10  # number of subintervals\n",
    "integral = rectangle_method(func, a, b, n)\n",
    "print('Exact solution = ', exact_solution)\n",
    "print(\"Approximate integral:\", integral[0])\n",
    "print('Difference between exact and approximate solutions equals', abs(exact_solution - integral[0]))"
   ]
  },
  {
   "cell_type": "markdown",
   "id": "5a4e034e",
   "metadata": {},
   "source": [
    "Let's increase the number of subintervals - rectangles"
   ]
  },
  {
   "cell_type": "code",
   "execution_count": 36,
   "id": "ea597ac1",
   "metadata": {
    "ExecuteTime": {
     "end_time": "2023-07-08T00:12:00.647052Z",
     "start_time": "2023-07-08T00:12:00.629110Z"
    }
   },
   "outputs": [
    {
     "name": "stdout",
     "output_type": "stream",
     "text": [
      "Exact solution =  28.333333333333332\n",
      "Approximate integral: 28.331249999999958\n",
      "Difference between exact and approximate solutions equals 0.002083333333374\n"
     ]
    }
   ],
   "source": [
    "n = 100\n",
    "integral = rectangle_method(func, a, b, n)\n",
    "print('Exact solution = ', exact_solution)\n",
    "print(\"Approximate integral:\", integral[0])\n",
    "print(f'Difference between exact and approximate solutions equals {abs(exact_solution - integral[0]):.15f}')"
   ]
  },
  {
   "cell_type": "markdown",
   "id": "3b77f188",
   "metadata": {},
   "source": [
    "Now difference between exact and approximate solutions is not significant after increasing number of rectangles"
   ]
  },
  {
   "cell_type": "markdown",
   "id": "b1b1420d",
   "metadata": {
    "ExecuteTime": {
     "end_time": "2023-07-03T20:51:49.229529Z",
     "start_time": "2023-07-03T20:51:49.222239Z"
    }
   },
   "source": [
    "# Numerical solution of nonlinear equations\n",
    "#### Bisection method\n",
    "\n",
    "Suppose we want to solve equation $x^3+x-1$ with precision $\\varepsilon = 0.0001$ by bisection method. The equation $x^3+x-1$ represent in the form $x^3 = -x+1$. \n",
    "\n",
    "The root of this equation is\n",
    "x-coordinate of the point of intersection of graphs of functions $y = x^3$ and $y = -x +1$ in the following plot. \n",
    "\n",
    "The desired root is between\n",
    "dots a = 0 and b = 1. Function $x^3+x-1$ at the ends of the segment [0; 1] takes the values\n",
    "different characters and $F(a)F(b)<0$"
   ]
  },
  {
   "cell_type": "code",
   "execution_count": 84,
   "id": "68a8d314",
   "metadata": {
    "ExecuteTime": {
     "end_time": "2023-07-08T00:47:33.079562Z",
     "start_time": "2023-07-08T00:47:32.703124Z"
    }
   },
   "outputs": [
    {
     "data": {
      "image/png": "[encoded data removed]",
      "text/plain": [
       "<Figure size 864x504 with 1 Axes>"
      ]
     },
     "metadata": {
      "needs_background": "light"
     },
     "output_type": "display_data"
    }
   ],
   "source": [
    "def bisection_plot(a,b, aa, bb):\n",
    "    def func(x):\n",
    "        return x**3 + x - 1\n",
    "    axe_x = np.linspace(a, b, 100)\n",
    "    axe_y = func(axe_x)\n",
    "    f_3 = lambda x: x**3\n",
    "    y_3 = f_3(axe_x)\n",
    "    f_1 = lambda x: -x+1\n",
    "    y_1 = f_1(axe_x)\n",
    "    plt.figure(figsize=(12,7))\n",
    "    # plt.plot(axe_x, axe_y, label='$y=x^3+x-1$', lw=2, color='blue')\n",
    "    plt.plot(axe_x, y_3, label='$y=x^3$', lw=2.3, color='orange')\n",
    "    plt.plot(axe_x, y_1, label='$y=-x+1$', lw=2, color='green')\n",
    "    plt.plot(1, f_1(1), 'o', color='green')\n",
    "    plt.plot(0, f_1(0), 'o', color='green')\n",
    "    plt.plot(1, f_3(1), marker='<', color='orange', ms=9)\n",
    "    plt.plot(0, f_3(0), marker='<', color='orange', ms=9)\n",
    "    plt.plot([a,b], [0,0], color='black', lw=1.45)\n",
    "    plt.plot([0,0], [aa, bb], color='black', lw=1.45)\n",
    "    plt.grid()\n",
    "    plt.legend()\n",
    "    plt.xlabel('$x$')\n",
    "    plt.ylabel('$y$')\n",
    "    plt.show()\n",
    "    \n",
    "bisection_plot(-2,2, -10,10)"
   ]
  },
  {
   "cell_type": "markdown",
   "id": "33cd21d1",
   "metadata": {},
   "source": [
    "Finding solution using this method:"
   ]
  },
  {
   "cell_type": "code",
   "execution_count": 108,
   "id": "742fcda4",
   "metadata": {
    "ExecuteTime": {
     "end_time": "2023-07-08T00:59:56.592707Z",
     "start_time": "2023-07-08T00:59:56.565490Z"
    }
   },
   "outputs": [
    {
     "name": "stdout",
     "output_type": "stream",
     "text": [
      "m = 0.5000000, [a, b] = [0.5000000, 1.0000000], h = 0.5000000 > 0.0000100 = e\n",
      "m = 0.7500000, [a, b] = [0.5000000, 0.7500000], h = 0.2500000 > 0.0000100 = e\n",
      "m = 0.6250000, [a, b] = [0.6250000, 0.7500000], h = 0.1250000 > 0.0000100 = e\n",
      "m = 0.6875000, [a, b] = [0.6250000, 0.6875000], h = 0.0625000 > 0.0000100 = e\n",
      "m = 0.6562500, [a, b] = [0.6562500, 0.6875000], h = 0.0312500 > 0.0000100 = e\n",
      "m = 0.6718750, [a, b] = [0.6718750, 0.6875000], h = 0.0156250 > 0.0000100 = e\n",
      "m = 0.6796875, [a, b] = [0.6796875, 0.6875000], h = 0.0078125 > 0.0000100 = e\n",
      "m = 0.6835938, [a, b] = [0.6796875, 0.6835938], h = 0.0039062 > 0.0000100 = e\n",
      "m = 0.6816406, [a, b] = [0.6816406, 0.6835938], h = 0.0019531 > 0.0000100 = e\n",
      "m = 0.6826172, [a, b] = [0.6816406, 0.6826172], h = 0.0009766 > 0.0000100 = e\n",
      "m = 0.6821289, [a, b] = [0.6821289, 0.6826172], h = 0.0004883 > 0.0000100 = e\n",
      "m = 0.6823730, [a, b] = [0.6821289, 0.6823730], h = 0.0002441 > 0.0000100 = e\n",
      "m = 0.6822510, [a, b] = [0.6822510, 0.6823730], h = 0.0001221 > 0.0000100 = e\n",
      "m = 0.6823120, [a, b] = [0.6823120, 0.6823730], h = 0.0000610 > 0.0000100 = e\n",
      "m = 0.6823425, [a, b] = [0.6823120, 0.6823425], h = 0.0000305 > 0.0000100 = e\n",
      "m = 0.6823273, [a, b] = [0.6823273, 0.6823425], h = 0.0000153 > 0.0000100 = e\n",
      "x = 0.6823348999023438, [a, b] = [0.6823272705078125, 0.6823348999023438], h = 7.62939453125e-06 < 1e-05 = e\n",
      "\n",
      "actual errors < desired bound for the error -->> solution found: x =\n",
      "0.6823348999023438\n"
     ]
    }
   ],
   "source": [
    "from numerical_methods import bisection\n",
    "def func(x):\n",
    "        return x**3 + x - 1\n",
    "x = bisection(func, 0, 1, 0.00001, trace=True)\n",
    "print(x)"
   ]
  },
  {
   "cell_type": "code",
   "execution_count": 107,
   "id": "65eb4d69",
   "metadata": {
    "ExecuteTime": {
     "end_time": "2023-07-08T00:58:38.849857Z",
     "start_time": "2023-07-08T00:58:38.390604Z"
    }
   },
   "outputs": [
    {
     "data": {
      "image/png": "[encoded data removed]",
      "text/plain": [
       "<Figure size 864x504 with 1 Axes>"
      ]
     },
     "metadata": {
      "needs_background": "light"
     },
     "output_type": "display_data"
    }
   ],
   "source": [
    "def bisection_plot(a,b, aa, bb):\n",
    "    def func(x):\n",
    "        return x**3 + x - 1\n",
    "    axe_x = np.linspace(a, b, 100)\n",
    "    axe_y = func(axe_x)\n",
    "    f_3 = lambda x: x**3\n",
    "    y_3 = f_3(axe_x)\n",
    "    f_1 = lambda x: -x+1\n",
    "    y_1 = f_1(axe_x)\n",
    "    plt.figure(figsize=(12,7))\n",
    "    plt.plot(axe_x, axe_y, label='$y=x^3+x-1$', lw=2, color='blue')\n",
    "    plt.plot(axe_x, y_3, label='$y=x^3$', lw=2.55, color='orange')\n",
    "    plt.plot(axe_x, y_1, label='$y=-x+1$', lw=2, color='green')\n",
    "    plt.plot(1, f_1(1), 'o', color='green')\n",
    "    plt.plot(0, f_1(0), 'o', color='green')\n",
    "    plt.plot(1, f_3(1), marker='<', color='orange', ms=10)\n",
    "    plt.plot(0, f_3(0), marker='<', color='orange', ms=10)\n",
    "    plt.plot([a,b], [0,0], color='black', lw=1.5)\n",
    "    plt.plot([0,0], [aa, bb], color='black', lw=1.5)\n",
    "    plt.plot(x, f_3(x), marker='*', color='red', label=f'$x = {x:.2f}$ - found solution', ms=11)\n",
    "    plt.plot(x, func(x), marker='*', color='blue', ms=10)\n",
    "    plt.grid()\n",
    "    plt.legend()\n",
    "    plt.xlabel('$x$')\n",
    "    plt.ylabel('$y$')\n",
    "    plt.show()\n",
    "    \n",
    "bisection_plot(-.5,1.5,-4,4)"
   ]
  }
 ],
 "metadata": {
  "hide_input": false,
  "kernelspec": {
   "display_name": "Python 3 (ipykernel)",
   "language": "python",
   "name": "python3"
  },
  "language_info": {
   "codemirror_mode": {
    "name": "ipython",
    "version": 3
   },
   "file_extension": ".py",
   "mimetype": "text/x-python",
   "name": "python",
   "nbconvert_exporter": "python",
   "pygments_lexer": "ipython3",
   "version": "3.9.7"
  },
  "latex_envs": {
   "LaTeX_envs_menu_present": true,
   "autoclose": false,
   "autocomplete": true,
   "bibliofile": "biblio.bib",
   "cite_by": "apalike",
   "current_citInitial": 1,
   "eqLabelWithNumbers": true,
   "eqNumInitial": 1,
   "hotkeys": {
    "equation": "Ctrl-E",
    "itemize": "Ctrl-I"
   },
   "labels_anchors": false,
   "latex_user_defs": false,
   "report_style_numbering": false,
   "user_envs_cfg": false
  }
 },
 "nbformat": 4,
 "nbformat_minor": 5
}
